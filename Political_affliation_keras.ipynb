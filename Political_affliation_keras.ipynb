{
 "cells": [
  {
   "cell_type": "markdown",
   "id": "da76da63",
   "metadata": {},
   "source": [
    "Data Loading and Preprocessing"
   ]
  },
  {
   "cell_type": "code",
   "execution_count": 1,
   "id": "163676ad",
   "metadata": {},
   "outputs": [],
   "source": [
    "import pandas as pd\n"
   ]
  },
  {
   "cell_type": "code",
   "execution_count": 2,
   "id": "36e0f286",
   "metadata": {},
   "outputs": [],
   "source": [
    "feature_name = ['party','handicapped-infants', 'water-project-cost-sharing', \n",
    "                    'adoption-of-the-budget-resolution', 'physician-fee-freeze',\n",
    "                    'el-salvador-aid', 'religious-groups-in-schools',\n",
    "                    'anti-satellite-test-ban', 'aid-to-nicaraguan-contras',\n",
    "                    'mx-missle', 'immigration', 'synfuels-corporation-cutback',\n",
    "                    'education-spending', 'superfund-right-to-sue', 'crime',\n",
    "                    'duty-free-exports', 'export-administration-act-south-africa']\n",
    "vote_data=pd.read_csv('house-votes-84.data.txt',na_values=['?'],names=feature_name)\n"
   ]
  },
  {
   "cell_type": "code",
   "execution_count": null,
   "id": "46e04cf0",
   "metadata": {
    "scrolled": true
   },
   "outputs": [],
   "source": [
    "vote_data.head()"
   ]
  },
  {
   "cell_type": "code",
   "execution_count": null,
   "id": "db538e95",
   "metadata": {},
   "outputs": [],
   "source": [
    "vote_data.describe()"
   ]
  },
  {
   "cell_type": "code",
   "execution_count": null,
   "id": "6ae2affb",
   "metadata": {},
   "outputs": [],
   "source": [
    "vote_data.dropna(inplace=True)\n",
    "vote_data.describe()\n"
   ]
  },
  {
   "cell_type": "code",
   "execution_count": null,
   "id": "7b29672c",
   "metadata": {
    "scrolled": true
   },
   "outputs": [],
   "source": [
    "vote_data.replace(('democrat','republican'),(1,0),inplace=True)\n",
    "vote_data.replace(('y','n'),(1,0),inplace= True)\n",
    "vote_data.head()"
   ]
  },
  {
   "cell_type": "code",
   "execution_count": 7,
   "id": "241972b1",
   "metadata": {},
   "outputs": [],
   "source": [
    "features_data = vote_data[feature_name].drop('party',axis = 1).values\n",
    "label_data = vote_data['party'].values"
   ]
  },
  {
   "cell_type": "markdown",
   "id": "88ad601a",
   "metadata": {},
   "source": [
    "Model Designing and Training and Testing"
   ]
  },
  {
   "cell_type": "code",
   "execution_count": 21,
   "id": "4f51e9b3",
   "metadata": {},
   "outputs": [],
   "source": [
    "from tensorflow.keras.models import Sequential \n",
    "from tensorflow.keras.layers import Input,Dense,Dropout \n",
    "from sklearn.model_selection import cross_val_score\n",
    "from scikeras.wrappers import KerasClassifier "
   ]
  },
  {
   "cell_type": "code",
   "execution_count": 28,
   "id": "9f5c8e79",
   "metadata": {},
   "outputs": [],
   "source": [
    "def create_model():\n",
    "    model = Sequential()\n",
    "    model.add(Input(shape=(16,)))\n",
    "    model.add(Dense(64 ,kernel_initializer='normal', activation ='relu' ))\n",
    "    model.add(Dense(32,kernel_initializer='normal',activation='relu'))\n",
    "    model.add(Dropout(0.3))\n",
    "    model.add(Dense(16, kernel_initializer = 'normal',activation = 'relu'))\n",
    "    model.add(Dropout(0.5))\n",
    "    model.add(Dense(1,kernel_initializer = 'normal',activation = 'sigmoid'))\n",
    "    model.compile(loss = 'binary_crossentropy',optimizer = 'adam',metrics =['accuracy'])\n",
    "    return model "
   ]
  },
  {
   "cell_type": "code",
   "execution_count": 29,
   "id": "2f141b7d",
   "metadata": {},
   "outputs": [
    {
     "data": {
      "text/plain": [
       "0.952536231884058"
      ]
     },
     "execution_count": 29,
     "metadata": {},
     "output_type": "execute_result"
    }
   ],
   "source": [
    "estimator = KerasClassifier(model = create_model,epochs = 100,verbose = 0)\n",
    "cv_score = cross_val_score(estimator,features_data,label_data,cv=10)\n",
    "cv_score.mean()"
   ]
  }
 ],
 "metadata": {
  "kernelspec": {
   "display_name": "Python 3 (ipykernel)",
   "language": "python",
   "name": "python3"
  },
  "language_info": {
   "codemirror_mode": {
    "name": "ipython",
    "version": 3
   },
   "file_extension": ".py",
   "mimetype": "text/x-python",
   "name": "python",
   "nbconvert_exporter": "python",
   "pygments_lexer": "ipython3",
   "version": "3.10.9"
  }
 },
 "nbformat": 4,
 "nbformat_minor": 5
}
